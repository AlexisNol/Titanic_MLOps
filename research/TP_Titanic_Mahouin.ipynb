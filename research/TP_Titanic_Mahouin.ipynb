{
 "cells": [
  {
   "cell_type": "markdown",
   "id": "e9728fcf",
   "metadata": {},
   "source": [
    "# AAG - Titanic\n",
    "## Mahouin Julien"
   ]
  },
  {
   "cell_type": "code",
   "execution_count": 8,
   "id": "bd8c341d",
   "metadata": {},
   "outputs": [],
   "source": [
    "import matplotlib.pyplot as plt\n",
    "import mpl_toolkits.mplot3d\n",
    "import pandas as pd\n",
    "import numpy as np\n",
    "import math\n",
    "from sklearn.metrics import accuracy_score, precision_score, recall_score"
   ]
  },
  {
   "cell_type": "code",
   "execution_count": 2,
   "id": "c10662af",
   "metadata": {},
   "outputs": [],
   "source": [
    "# Méthode de création des intervalles pour la discrétisation du jeu de données\n",
    "def discretisation_dataset(dataset, j):\n",
    "    # Calcul de la moyenne de la colonne\n",
    "    moy = 0\n",
    "    for i in range(dataset.shape[0]):\n",
    "        moy += dataset[i][j]\n",
    "    moy /= dataset.shape[0]\n",
    "    \n",
    "    # Discrétisation des données par rapport à cette valeur\n",
    "    for i in range(dataset.shape[0]):\n",
    "        if(dataset[i][j] >= moy):\n",
    "            dataset[i][j] = 1\n",
    "        else:\n",
    "            dataset[i][j] = 0\n",
    "            \n",
    "def discretiser_sexe(dataset):\n",
    "    for i in range(dataset.shape[0]):\n",
    "        if(dataset[i][2] == 'male'):\n",
    "            dataset[i][2] = 1\n",
    "        else:\n",
    "            dataset[i][2] = 0"
   ]
  },
  {
   "cell_type": "code",
   "execution_count": 3,
   "id": "982c2801",
   "metadata": {},
   "outputs": [],
   "source": [
    "# Méthode de création de la table des fréquences des features par classe\n",
    "def creerTableFrequences(dataset):\n",
    "    # Calcul des fréquences de chaque classe pour chaque feature\n",
    "    freq_classes_features = [] # La liste des matrices de fréquences\n",
    "    \n",
    "    # Calcul des fréquences pour la première feature\n",
    "    freq_classes = np.zeros((3, 2))\n",
    "    for i in range(dataset.shape[0]):\n",
    "        freq_classes[dataset[i][1]-1][dataset[i][0]] += 1\n",
    "    freq_classes_features.append(freq_classes)\n",
    "        \n",
    "    # Calcul des fréquences pour les features suivantes\n",
    "    for j in range(2, dataset.shape[1]):\n",
    "        freq_classes = np.zeros((2, 2))\n",
    "        for i in range(dataset.shape[0]):\n",
    "            freq_classes[dataset[i][j]][dataset[i][0]] += 1\n",
    "        freq_classes_features.append(freq_classes)\n",
    "    \n",
    "    # Retour de l'ensemble des tables de fréquences des features par classe\n",
    "    return freq_classes_features"
   ]
  },
  {
   "cell_type": "markdown",
   "id": "27adda65",
   "metadata": {},
   "source": [
    "## k-ppv"
   ]
  },
  {
   "cell_type": "code",
   "execution_count": 13,
   "id": "05e77110",
   "metadata": {},
   "outputs": [],
   "source": [
    "# Méthode K-ppv\n",
    "def kppv_oneData(data, dataset, k):\n",
    "    # Calcul des distances entre la donnée de test et l'ensemble des données d'apprentissage selon la formule de la\n",
    "    # distance de Manhattan\n",
    "    distances = np.zeros(dataset.shape[0])\n",
    "    for i in range(dataset.shape[0]):\n",
    "        for j in range(1, dataset.shape[1]):\n",
    "            #if not(math.isnan(data[j])) and not(math.isnan(dataset[i, j])):\n",
    "            distances[i] += np.absolute(data[j] - dataset[i, j])\n",
    "            # Calcul de la distance Euclidienne\n",
    "            #distances[i] += np.square(np.absolute(data[j] - dataset[i, j]))\n",
    "        #distances[i] = np.sqrt(distances[i])\n",
    "        \n",
    "    # Conservation des rangs des k plus proches voisins\n",
    "    rangs = distances.argsort()\n",
    "    k_plus_proches_voisins = rangs[:k]\n",
    "    \n",
    "    # Calcul de la fréquences des classes parmis les k plus proches voisins\n",
    "    freq_classes = np.zeros((2,))\n",
    "    for i in range(k):\n",
    "        freq_classes[dataset[k_plus_proches_voisins[i]][0]] += 1\n",
    "    \n",
    "    # Retour de la classe la plus fréquente de ses voisins\n",
    "    return int(np.argmax(freq_classes))\n",
    "\n",
    "def kppv(datas, dataset, k):\n",
    "    datasClassees = np.zeros(datas.shape[0], dtype=int)\n",
    "    \n",
    "    for i in range(datas.shape[0]):\n",
    "        datasClassees[i] = kppv_oneData(datas[i], dataset, k)\n",
    "    \n",
    "    return datasClassees\n",
    "\n",
    "# Méthode Naïve Bayes avec retour des mesures d'évaluation\n",
    "def kppvV2(dataset_test, dataset_apprentissage, k):\n",
    "    # Table comprenant les résultats de prédictions Références/Hypothèses, initialisée avec des 1 pour éviter les 0 lors des\n",
    "    # calculs\n",
    "    table_result = np.ones([2, 2])\n",
    "    sauv_result = [] # Sauvegarde des résultats brutes pour chaque données\n",
    "    # Prédiction de chacune des données et affectation dans la table\n",
    "    resultat = kppv(dataset_test, dataset_apprentissage, k)\n",
    "    sauv_result.append(resultat)\n",
    "    for i in range(dataset_test.shape[0]):\n",
    "        table_result[resultat[i], dataset_apprentissage[i][0]] += 1\n",
    "        \n",
    "    \n",
    "    # Calcul des prédictions et des mesures d'évaluation\n",
    "    return [sauv_result, accuracy(table_result), precisions(table_result), rappels(table_result)]"
   ]
  },
  {
   "cell_type": "markdown",
   "id": "feb1d98f",
   "metadata": {},
   "source": [
    "## Main"
   ]
  },
  {
   "cell_type": "code",
   "execution_count": 17,
   "id": "8506e0d9",
   "metadata": {},
   "outputs": [
    {
     "name": "stdout",
     "output_type": "stream",
     "text": [
      "[[0 3 'male' 1 0]\n",
      " [1 1 'female' 1 0]\n",
      " [1 3 'female' 0 0]\n",
      " ...\n",
      " [0 3 'female' 1 2]\n",
      " [1 1 'male' 0 0]\n",
      " [0 3 'male' 0 0]]\n",
      "--->Accuracy :\n",
      " 0.8055865921787709\n",
      "--->Precisions :\n",
      " [0.91651543 0.62790698]\n",
      "--->Rappels :\n",
      " [0.79778831 0.82442748]\n"
     ]
    }
   ],
   "source": [
    "# Préparation du jeu d'apprentissage\n",
    "spreadsheet = pd.read_csv('train.csv')\n",
    "dataTrain = spreadsheet.to_numpy()\n",
    "dataTrain = np.delete(dataTrain, [0, 3, 5, 8, 9, 10, 11], 1)\n",
    "\n",
    "discretiser_sexe(dataTrain)\n",
    "\n",
    "# Préparation du jeu de test\n",
    "spreadsheet = pd.read_csv('test.csv')\n",
    "dataTests = spreadsheet.to_numpy()\n",
    "dataTest = np.delete(dataTests, [0, 2, 4, 7, 8, 9, 10], 1)\n",
    "# Ajout de la colonne des classes\n",
    "col = np.zeros((dataTest.shape[0],1), dtype=int)\n",
    "dataTest = np.hstack((col, dataTest))\n",
    "\n",
    "discretiser_sexe(dataTest)\n",
    "\n",
    "#k = int(dataTrain.shape[0] / 3)\n",
    "k = int(np.sqrt(dataTrain.shape[0]))\n",
    "\n",
    "predictions = kppv(dataTest, dataTrain, k)\n",
    "\n",
    "# Concaténation des ID et des prédictions au format DataFrame\n",
    "df = pd.DataFrame({'PassengerId': dataTests[:, 0],\n",
    "                   'Survived': predictions})\n",
    "#df.drop([0], axis=1)\n",
    "#df.drop(columns = df.columns[0], axis = 1, inplace= True)\n",
    "# Exportation des résultats au format csv\n",
    "from pathlib import Path  \n",
    "#filepath = Path('Resultats/out.csv')  \n",
    "#filepath.parent.mkdir(parents=True, exist_ok=True)  \n",
    "#df.to_csv(filepath) \n",
    "df.to_csv(r'Resultats/out.csv', index=False, header=True)\n",
    "\n",
    "res, acc, prec, rapp = kppvV2(dataTrain, dataTrain, k)\n",
    "#print('--->Prédictions :\\n', res)\n",
    "print('--->Accuracy :\\n', acc)\n",
    "print('--->Precisions :\\n', prec)\n",
    "print('--->Rappels :\\n', rapp)\n",
    "\n",
    "#--->Accuracy :\n",
    "# 0.8055865921787709\n",
    "#--->Precisions :\n",
    "# [0.91651543 0.62790698]\n",
    "#--->Rappels :\n",
    "# [0.79778831 0.82442748]\n",
    "# 0.77033"
   ]
  },
  {
   "cell_type": "markdown",
   "id": "75cc9044",
   "metadata": {},
   "source": [
    "## Mesures d'évaluation"
   ]
  },
  {
   "cell_type": "code",
   "execution_count": 14,
   "id": "10f90771",
   "metadata": {},
   "outputs": [],
   "source": [
    "# Méthode de calcul de l'accuracy\n",
    "def accuracy(resultats):\n",
    "    nb_bien_classees = 0\n",
    "    for i in range(resultats.shape[0]):\n",
    "        nb_bien_classees += resultats[i,i]\n",
    "    return nb_bien_classees / resultats.sum()\n",
    "\n",
    "# Méthode de calcul de la précision\n",
    "def precisions(resultats):\n",
    "    precisions = np.zeros(resultats.shape[0])\n",
    "    for i in range(resultats.shape[0]):\n",
    "        precisions[i] = resultats[i, i] / resultats.sum(axis=0)[i]\n",
    "    return precisions\n",
    "\n",
    "# Méthode de calcul du rappel\n",
    "def rappels(resultats):\n",
    "    rappels = np.zeros(resultats.shape[0])\n",
    "    for i in range(resultats.shape[0]):\n",
    "        rappels[i] = resultats[i, i] / resultats.sum(axis=1)[i]\n",
    "    return rappels"
   ]
  }
 ],
 "metadata": {
  "kernelspec": {
   "display_name": "Python 3 (ipykernel)",
   "language": "python",
   "name": "python3"
  },
  "language_info": {
   "codemirror_mode": {
    "name": "ipython",
    "version": 3
   },
   "file_extension": ".py",
   "mimetype": "text/x-python",
   "name": "python",
   "nbconvert_exporter": "python",
   "pygments_lexer": "ipython3",
   "version": "3.11.7"
  }
 },
 "nbformat": 4,
 "nbformat_minor": 5
}
